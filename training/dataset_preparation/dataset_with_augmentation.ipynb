{
 "cells": [
  {
   "cell_type": "markdown",
   "metadata": {},
   "source": [
    "# Dataset with Augmentation"
   ]
  },
  {
   "cell_type": "markdown",
   "metadata": {},
   "source": [
    "## Details about Notebook"
   ]
  },
  {
   "cell_type": "markdown",
   "metadata": {},
   "source": [
    "This Notebook has all the steps to Augmentat the Raw Dataset for training a model."
   ]
  },
  {
   "cell_type": "markdown",
   "metadata": {},
   "source": [
    "### Importing Libraries"
   ]
  },
  {
   "cell_type": "code",
   "execution_count": null,
   "metadata": {},
   "outputs": [],
   "source": [
    "import os\n",
    "import math\n",
    "import json\n",
    "import numpy as np\n",
    "import pandas as pd\n",
    "import seaborn as sns\n",
    "import tensorflow as tf\n",
    "import matplotlib.pyplot as plt"
   ]
  },
  {
   "cell_type": "code",
   "execution_count": null,
   "metadata": {},
   "outputs": [],
   "source": [
    "from tensorflow.keras.models import Sequential, Model\n",
    "from tensorflow.keras.layers import (\n",
    "    Conv2D,\n",
    "    MaxPool2D,\n",
    "    Flatten,\n",
    "    Dense,\n",
    "    Dropout,\n",
    "    GlobalAveragePooling2D,\n",
    "    BatchNormalization,\n",
    ")\n",
    "from tensorflow.keras.optimizers import Adam\n",
    "from tensorflow.keras.utils import image_dataset_from_directory, load_img, img_to_array\n",
    "from tensorflow.keras.applications import InceptionV3\n",
    "from keras.callbacks import ModelCheckpoint, EarlyStopping"
   ]
  },
  {
   "cell_type": "code",
   "execution_count": null,
   "metadata": {},
   "outputs": [],
   "source": [
    "from sklearn.metrics import (\n",
    "    classification_report,\n",
    "    confusion_matrix,\n",
    "    ConfusionMatrixDisplay\n",
    ")"
   ]
  },
  {
   "cell_type": "code",
   "execution_count": null,
   "metadata": {},
   "outputs": [],
   "source": [
    "# Global Variables\n",
    "IMAGE_SIZE = 224\n",
    "BATCH_SIZE = 32"
   ]
  },
  {
   "cell_type": "markdown",
   "metadata": {},
   "source": [
    "### Importing Dataset"
   ]
  },
  {
   "cell_type": "markdown",
   "metadata": {},
   "source": [
    "#### Dataset Preparation"
   ]
  },
  {
   "cell_type": "code",
   "execution_count": null,
   "metadata": {},
   "outputs": [],
   "source": [
    "# Paths to the dataset folders\n",
    "TRAIN_DIR = \"../datasets/cropped_plant_village_dataset/train\"\n",
    "VALID_DIR = \"../datasets/cropped_plant_village_dataset/valid\"\n",
    "SAMPLE_IMAGE = \"../datasets/cropped_plant_village_dataset/sample_image.JPG\""
   ]
  },
  {
   "cell_type": "markdown",
   "metadata": {},
   "source": [
    "##### Training Set"
   ]
  },
  {
   "cell_type": "code",
   "execution_count": null,
   "metadata": {},
   "outputs": [],
   "source": [
    "training_set = image_dataset_from_directory(\n",
    "    TRAIN_DIR,\n",
    "    labels=\"inferred\",\n",
    "    label_mode=\"categorical\",\n",
    "    class_names=None,\n",
    "    color_mode=\"rgb\",\n",
    "    batch_size=BATCH_SIZE,\n",
    "    image_size=(IMAGE_SIZE, IMAGE_SIZE),\n",
    "    shuffle=True,\n",
    "    seed=None,\n",
    "    validation_split=None,\n",
    "    subset=None,\n",
    "    interpolation=\"bilinear\",\n",
    "    follow_links=False,\n",
    "    crop_to_aspect_ratio=False,\n",
    ")"
   ]
  },
  {
   "cell_type": "markdown",
   "metadata": {},
   "source": [
    "##### Validation Set"
   ]
  },
  {
   "cell_type": "code",
   "execution_count": null,
   "metadata": {},
   "outputs": [],
   "source": [
    "validation_set = tf.keras.utils.image_dataset_from_directory(\n",
    "    VALID_DIR,\n",
    "    labels=\"inferred\",\n",
    "    label_mode=\"categorical\",\n",
    "    class_names=None,\n",
    "    color_mode=\"rgb\",\n",
    "    batch_size=BATCH_SIZE,\n",
    "    image_size=(IMAGE_SIZE, IMAGE_SIZE),\n",
    "    shuffle=True,\n",
    "    seed=None,\n",
    "    validation_split=None,\n",
    "    subset=None,\n",
    "    interpolation=\"bilinear\",\n",
    "    follow_links=False,\n",
    "    crop_to_aspect_ratio=False,\n",
    ")"
   ]
  },
  {
   "cell_type": "code",
   "execution_count": null,
   "metadata": {},
   "outputs": [],
   "source": [
    "test_set = tf.keras.utils.image_dataset_from_directory(\n",
    "    VALID_DIR,\n",
    "    labels=\"inferred\",\n",
    "    label_mode=\"categorical\",\n",
    "    class_names=None,\n",
    "    color_mode=\"rgb\",\n",
    "    batch_size=1,\n",
    "    image_size=(IMAGE_SIZE, IMAGE_SIZE),\n",
    "    shuffle=False,\n",
    "    seed=None,\n",
    "    validation_split=None,\n",
    "    subset=None,\n",
    "    interpolation=\"bilinear\",\n",
    "    follow_links=False,\n",
    "    crop_to_aspect_ratio=False,\n",
    ")"
   ]
  },
  {
   "cell_type": "markdown",
   "metadata": {},
   "source": [
    "#### Dataset Details"
   ]
  },
  {
   "cell_type": "code",
   "execution_count": null,
   "metadata": {},
   "outputs": [],
   "source": [
    "# Function to count images in each class\n",
    "def count_images_in_classes(dataset_dir):\n",
    "    \"\"\"\n",
    "    Counts the number of images in each class within a dataset directory.\n",
    "\n",
    "    Args:\n",
    "        dataset_dir (str): The path to the dataset directory.\n",
    "\n",
    "    Returns:\n",
    "        dict: A dictionary where the keys are the class names and the values are the number of images in each class.\n",
    "    \"\"\"\n",
    "    class_counts = {}\n",
    "    for class_name in os.listdir(dataset_dir):\n",
    "        class_path = os.path.join(dataset_dir, class_name)\n",
    "        if os.path.isdir(class_path):\n",
    "            class_counts[class_name] = len(os.listdir(class_path))\n",
    "    return class_counts\n",
    "\n",
    "\n",
    "# Count images in training and validation sets\n",
    "train_class_counts = count_images_in_classes(TRAIN_DIR)\n",
    "valid_class_counts = count_images_in_classes(VALID_DIR)\n",
    "\n",
    "# Create a DataFrame for better visualization\n",
    "df = pd.DataFrame(\n",
    "    {\n",
    "        \"Class\": list(train_class_counts.keys()),\n",
    "        \"Training Images\": list(train_class_counts.values()),\n",
    "        \"Validation Images\": \n",
    "            list(valid_class_counts.values())\n",
    "        # [\n",
    "            # valid_class_counts.get(cls, 0) for cls in train_class_counts.keys()\n",
    "        # ],\n",
    "    }\n",
    ").sort_values(by=\"Class\", ascending=True)"
   ]
  },
  {
   "cell_type": "code",
   "execution_count": null,
   "metadata": {},
   "outputs": [],
   "source": [
    "# Display the DataFrame\n",
    "print(df)"
   ]
  },
  {
   "cell_type": "code",
   "execution_count": null,
   "metadata": {},
   "outputs": [],
   "source": [
    "# Plot the class distribution with adjustments for readability\n",
    "df.plot(\n",
    "    x=\"Class\", kind=\"bar\", stacked=True, figsize=(20, 8), title=\"Class Distribution\"\n",
    ")\n",
    "plt.ylabel(\"Number of Images\")\n",
    "plt.xlabel(\"Class\")\n",
    "\n",
    "# Rotate x-ticks for better readability\n",
    "plt.xticks(rotation=90, ha=\"center\")\n",
    "\n",
    "# Adjust layout to prevent clipping of labels\n",
    "plt.tight_layout()\n",
    "\n",
    "# Show the plot\n",
    "plt.show()"
   ]
  },
  {
   "cell_type": "code",
   "execution_count": null,
   "metadata": {},
   "outputs": [],
   "source": [
    "# Function to visualize one image per class\n",
    "def visualize_sample_images(dataset_dir):\n",
    "    \"\"\"\n",
    "    Visualizes one sample image per class in the dataset directory.\n",
    "\n",
    "    Args:\n",
    "        dataset_dir (str): The path to the dataset directory.\n",
    "\n",
    "    Displays a grid of images, with one image per class, using matplotlib.\n",
    "    \"\"\"\n",
    "    class_names = os.listdir(dataset_dir)\n",
    "    class_names.sort()  # Sort for consistent order\n",
    "\n",
    "    # Calculate the number of rows and columns for the subplot grid\n",
    "    num_classes = len(class_names)\n",
    "    num_cols = 5  # You can adjust this number\n",
    "    num_rows = math.ceil(num_classes / num_cols)\n",
    "\n",
    "    plt.figure(figsize=(num_cols * 3, num_rows * 3))\n",
    "    for i, class_name in enumerate(class_names, start=1):\n",
    "        class_path = os.path.join(dataset_dir, class_name)\n",
    "        image_path = os.path.join(\n",
    "            class_path, os.listdir(class_path)[0]\n",
    "        )  # Get the first image in the class\n",
    "        img = plt.imread(image_path)\n",
    "\n",
    "        plt.subplot(num_rows, num_cols, i)  # Adjust grid size dynamically\n",
    "        plt.imshow(img)\n",
    "        plt.title(class_name)\n",
    "        plt.axis(\"off\")\n",
    "\n",
    "    plt.tight_layout()\n",
    "    plt.show()"
   ]
  },
  {
   "cell_type": "code",
   "execution_count": null,
   "metadata": {},
   "outputs": [],
   "source": [
    "# Visualize sample images from training set\n",
    "visualize_sample_images(TRAIN_DIR)"
   ]
  },
  {
   "cell_type": "markdown",
   "metadata": {},
   "source": [
    "### Image Preprocessing"
   ]
  },
  {
   "cell_type": "markdown",
   "metadata": {},
   "source": [
    "#### Normalization"
   ]
  },
  {
   "cell_type": "code",
   "execution_count": null,
   "metadata": {},
   "outputs": [],
   "source": [
    "normalize = tf.keras.layers.Rescaling(1.0 / 255)\n",
    "\n",
    "# Apply normalization on both Training and Validation set\n",
    "normalized_training_set = training_set.map(lambda x, y: (normalize(x), y))\n",
    "normalized_validation_set = validation_set.map(lambda x, y: (normalize(x), y))\n",
    "normalized_test_set = test_set.map(lambda x, y: (normalize(x), y))"
   ]
  },
  {
   "cell_type": "markdown",
   "metadata": {},
   "source": [
    "#### Image Augmentation"
   ]
  },
  {
   "cell_type": "code",
   "execution_count": null,
   "metadata": {},
   "outputs": [],
   "source": [
    "# Brightness adjustment\n",
    "brighten = (\n",
    "    tf.keras.layers.RandomBrightness(\n",
    "        factor=(-0.1, 0.1),\n",
    "        value_range=(0.0, 1.0),\n",
    "    ),\n",
    ")  # Adjust brightness by ±20%\n",
    "\n",
    "# Contrast adjustment\n",
    "add_contrast = (tf.keras.layers.RandomContrast(factor=0.7),)  # Adjust contrast by ±20%\n",
    "\n",
    "# Rotation\n",
    "rotate = (\n",
    "    tf.keras.layers.RandomRotation(\n",
    "        factor=0.2,\n",
    "        fill_mode=\"constant\",\n",
    "        fill_value=0.0,\n",
    "    ),\n",
    ")  # Rotate by ±10% (36°)\n",
    "\n",
    "# Horizontal and vertical flips\n",
    "flip = (\n",
    "    tf.keras.layers.RandomFlip(mode=\"horizontal_and_vertical\"),\n",
    ")  # Flip both horizontally and vertically\n",
    "\n",
    "# Zoom\n",
    "zoom = (\n",
    "    tf.keras.layers.RandomZoom(\n",
    "        height_factor=(-0.2, 0.2),\n",
    "        width_factor=(-0.2, 0.2),\n",
    "        fill_mode=\"constant\",\n",
    "        fill_value=0.0,\n",
    "    ),\n",
    ")  # Zoom in/out by 20%\n",
    "\n",
    "# Gaussian noise\n",
    "add_noise = (tf.keras.layers.GaussianNoise(stddev=0.01),)  # Add Gaussian noise"
   ]
  },
  {
   "cell_type": "code",
   "execution_count": null,
   "metadata": {},
   "outputs": [],
   "source": [
    "data_augmentation = Sequential(\n",
    "    [brighten, add_contrast, rotate, flip, zoom, add_noise]\n",
    ")\n",
    "\n",
    "# Apply augmentation to the training set\n",
    "augmented_training_set = normalized_training_set.map(\n",
    "    lambda x, y: (data_augmentation(x), y)\n",
    ")"
   ]
  },
  {
   "cell_type": "markdown",
   "metadata": {},
   "source": [
    "#### Image Enhancement (not implemented)"
   ]
  },
  {
   "cell_type": "code",
   "execution_count": null,
   "metadata": {},
   "outputs": [],
   "source": [
    "# Image Enhancements have not strongly proven to increase the accuracy"
   ]
  },
  {
   "cell_type": "markdown",
   "metadata": {},
   "source": [
    "#### Image Preprocessing Details"
   ]
  },
  {
   "cell_type": "markdown",
   "metadata": {},
   "source": [
    "##### Augmentation Details"
   ]
  },
  {
   "cell_type": "code",
   "execution_count": null,
   "metadata": {},
   "outputs": [],
   "source": [
    "# Test the augmentation pipeline with individual augmentations\n",
    "def visualize_individual_augmentations(image_path):\n",
    "    \"\"\"\n",
    "    Visualizes the effect of individual augmentations on an input image.\n",
    "\n",
    "    Args:\n",
    "        image_path (str): The path to the input image.\n",
    "\n",
    "    Applies a series of individual augmentations to the input image and displays the results in a grid.\n",
    "    \"\"\"\n",
    "    # Load and preprocess the image\n",
    "    image = load_img(image_path, target_size=(IMAGE_SIZE, IMAGE_SIZE))  # Adjust to your image size\n",
    "    image_array = img_to_array(image) / 255.0  # Normalize to [0, 1]\n",
    "    image_array = tf.expand_dims(image_array, axis=0)  # Add batch dimension\n",
    "\n",
    "    # Define individual augmentation layers\n",
    "    augmentations = [\n",
    "        (\"Original\", None),\n",
    "        (\n",
    "            \"Random Brightness\",\n",
    "            brighten,\n",
    "        ),\n",
    "        (\"Random Contrast\", add_contrast),\n",
    "        (\n",
    "            \"Random Rotation\",\n",
    "            rotate,\n",
    "        ),\n",
    "        (\"Random Flip\", flip),\n",
    "        (\n",
    "            \"Random Zoom\",\n",
    "            zoom,\n",
    "        ),\n",
    "        (\"Gaussian Noise\", add_noise),\n",
    "    ]\n",
    "\n",
    "    # Apply each augmentation and plot\n",
    "    plt.figure(figsize=(20, 5))\n",
    "    for i, (title, layer) in enumerate(augmentations, start=1):\n",
    "        if layer is None:\n",
    "            augmented_image = image_array[0]\n",
    "        else:\n",
    "            augmented_image = layer(image_array)[0]\n",
    "\n",
    "        plt.subplot(1, len(augmentations), i)\n",
    "        plt.imshow(augmented_image.numpy())\n",
    "        plt.title(title)\n",
    "        plt.axis(\"off\")\n",
    "\n",
    "    plt.show()"
   ]
  },
  {
   "cell_type": "code",
   "execution_count": null,
   "metadata": {},
   "outputs": [],
   "source": [
    "# Visualize individual augmentation techniques\n",
    "visualize_individual_augmentations(SAMPLE_IMAGE)"
   ]
  },
  {
   "cell_type": "code",
   "execution_count": null,
   "metadata": {},
   "outputs": [],
   "source": [
    "# Test the augmentation pipeline with a sample image\n",
    "def visualize_augmentation(image_path):\n",
    "    \"\"\"\n",
    "    Visualizes the effect of the augmentation pipeline on a sample image.\n",
    "\n",
    "    Args:\n",
    "        image_path (str): The path to the input image.\n",
    "\n",
    "    Applies the augmentation pipeline to the input image and displays the original image alongside 5 augmented versions.\n",
    "    \"\"\"\n",
    "\n",
    "    # Load and preprocess the image\n",
    "    image = load_img(\n",
    "        image_path, target_size=(IMAGE_SIZE, IMAGE_SIZE)\n",
    "    )  # Adjust to your image size\n",
    "    image_array = img_to_array(image) / 255.0  # Normalize to [0, 1]\n",
    "    image_array = tf.expand_dims(image_array, axis=0)  # Add batch dimension\n",
    "\n",
    "    # Apply augmentations\n",
    "    augmented_images = [data_augmentation(image_array)[0] for _ in range(5)]\n",
    "\n",
    "    # Plot original and augmented images\n",
    "    plt.figure(figsize=(15, 3))\n",
    "    plt.subplot(1, 6, 1)\n",
    "    plt.imshow(image_array[0])\n",
    "    plt.title(\"Original\")\n",
    "    plt.axis(\"off\")\n",
    "\n",
    "    for i, aug_img in enumerate(augmented_images, start=2):\n",
    "        plt.subplot(1, 6, i)\n",
    "        plt.imshow(aug_img.numpy())\n",
    "        plt.title(f\"Augmented {i-1}\")\n",
    "        plt.axis(\"off\")\n",
    "    plt.show()"
   ]
  },
  {
   "cell_type": "code",
   "execution_count": null,
   "metadata": {},
   "outputs": [],
   "source": [
    "# Visualize the Original vs Augmented Image\n",
    "visualize_augmentation(SAMPLE_IMAGE)"
   ]
  },
  {
   "cell_type": "markdown",
   "metadata": {},
   "source": [
    "## Conclusion"
   ]
  }
 ],
 "metadata": {
  "kernelspec": {
   "display_name": ".AgroDiagnoseAI_venv",
   "language": "python",
   "name": "python3"
  },
  "language_info": {
   "name": "python",
   "version": "3.12.3"
  }
 },
 "nbformat": 4,
 "nbformat_minor": 2
}
