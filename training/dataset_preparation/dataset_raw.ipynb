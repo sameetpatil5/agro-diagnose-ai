{
 "cells": [
  {
   "cell_type": "markdown",
   "metadata": {},
   "source": [
    "# Raw Dataset"
   ]
  },
  {
   "cell_type": "markdown",
   "metadata": {},
   "source": [
    "## Details about Notebook"
   ]
  },
  {
   "cell_type": "markdown",
   "metadata": {},
   "source": [
    "This Notebook will import the Raw Dataset properly and prepare it for training a model. "
   ]
  },
  {
   "cell_type": "markdown",
   "metadata": {},
   "source": [
    "### Importing Libraries"
   ]
  },
  {
   "cell_type": "code",
   "execution_count": null,
   "metadata": {},
   "outputs": [],
   "source": [
    "import os\n",
    "import math\n",
    "import json\n",
    "import numpy as np\n",
    "import pandas as pd\n",
    "import seaborn as sns\n",
    "import tensorflow as tf\n",
    "import matplotlib.pyplot as plt"
   ]
  },
  {
   "cell_type": "code",
   "execution_count": null,
   "metadata": {},
   "outputs": [],
   "source": [
    "from tensorflow.keras.models import Sequential, Model\n",
    "from tensorflow.keras.layers import (\n",
    "    Conv2D,\n",
    "    MaxPool2D,\n",
    "    Flatten,\n",
    "    Dense,\n",
    "    Dropout,\n",
    "    GlobalAveragePooling2D,\n",
    "    BatchNormalization,\n",
    ")\n",
    "from tensorflow.keras.optimizers import Adam\n",
    "from tensorflow.keras.utils import image_dataset_from_directory, load_img, img_to_array\n",
    "from tensorflow.keras.applications import InceptionV3\n",
    "from keras.callbacks import ModelCheckpoint, EarlyStopping"
   ]
  },
  {
   "cell_type": "code",
   "execution_count": null,
   "metadata": {},
   "outputs": [],
   "source": [
    "from sklearn.metrics import (\n",
    "    classification_report,\n",
    "    confusion_matrix,\n",
    "    ConfusionMatrixDisplay\n",
    ")"
   ]
  },
  {
   "cell_type": "code",
   "execution_count": null,
   "metadata": {},
   "outputs": [],
   "source": [
    "# Global Variables\n",
    "\n",
    "NUM_CLASSES = 38\n",
    "IMAGE_SIZE = 224\n",
    "BATCH_SIZE = 32"
   ]
  },
  {
   "cell_type": "markdown",
   "metadata": {},
   "source": [
    "### Importing Dataset"
   ]
  },
  {
   "cell_type": "markdown",
   "metadata": {},
   "source": [
    "#### Dataset Preparation"
   ]
  },
  {
   "cell_type": "code",
   "execution_count": null,
   "metadata": {},
   "outputs": [],
   "source": [
    "# Paths to the dataset folders\n",
    "TRAIN_DIR = \"../datasets/cropped_plant_village_dataset/train\"\n",
    "VALID_DIR = \"../datasets/cropped_plant_village_dataset/valid\"\n",
    "SAMPLE_IMAGE = \"../datasets/cropped_plant_village_dataset/sample_image.JPG\""
   ]
  },
  {
   "cell_type": "code",
   "execution_count": null,
   "metadata": {},
   "outputs": [],
   "source": [
    "# Global Variables\n"
   ]
  },
  {
   "cell_type": "markdown",
   "metadata": {},
   "source": []
  },
  {
   "cell_type": "markdown",
   "metadata": {},
   "source": [
    "##### Training Set"
   ]
  },
  {
   "cell_type": "code",
   "execution_count": null,
   "metadata": {},
   "outputs": [],
   "source": [
    "training_set = image_dataset_from_directory(\n",
    "    TRAIN_DIR,\n",
    "    labels=\"inferred\",\n",
    "    label_mode=\"categorical\",\n",
    "    class_names=None,\n",
    "    color_mode=\"rgb\",\n",
    "    batch_size=BATCH_SIZE,\n",
    "    image_size=(IMAGE_SIZE, IMAGE_SIZE),\n",
    "    shuffle=True,\n",
    "    seed=None,\n",
    "    validation_split=None,\n",
    "    subset=None,\n",
    "    interpolation=\"bilinear\",\n",
    "    follow_links=False,\n",
    "    crop_to_aspect_ratio=False,\n",
    ")"
   ]
  },
  {
   "cell_type": "markdown",
   "metadata": {},
   "source": [
    "##### Validation Set"
   ]
  },
  {
   "cell_type": "code",
   "execution_count": null,
   "metadata": {},
   "outputs": [],
   "source": [
    "validation_set = tf.keras.utils.image_dataset_from_directory(\n",
    "    VALID_DIR,\n",
    "    labels=\"inferred\",\n",
    "    label_mode=\"categorical\",\n",
    "    class_names=None,\n",
    "    color_mode=\"rgb\",\n",
    "    batch_size=BATCH_SIZE,\n",
    "    image_size=(IMAGE_SIZE, IMAGE_SIZE),\n",
    "    shuffle=True,\n",
    "    seed=None,\n",
    "    validation_split=None,\n",
    "    subset=None,\n",
    "    interpolation=\"bilinear\",\n",
    "    follow_links=False,\n",
    "    crop_to_aspect_ratio=False,\n",
    ")"
   ]
  },
  {
   "cell_type": "code",
   "execution_count": null,
   "metadata": {},
   "outputs": [],
   "source": [
    "test_set = tf.keras.utils.image_dataset_from_directory(\n",
    "    VALID_DIR,\n",
    "    labels=\"inferred\",\n",
    "    label_mode=\"categorical\",\n",
    "    class_names=None,\n",
    "    color_mode=\"rgb\",\n",
    "    batch_size=1,\n",
    "    image_size=(IMAGE_SIZE, IMAGE_SIZE),\n",
    "    shuffle=False,\n",
    "    seed=None,\n",
    "    validation_split=None,\n",
    "    subset=None,\n",
    "    interpolation=\"bilinear\",\n",
    "    follow_links=False,\n",
    "    crop_to_aspect_ratio=False,\n",
    ")"
   ]
  },
  {
   "cell_type": "markdown",
   "metadata": {},
   "source": [
    "#### Dataset Details"
   ]
  },
  {
   "cell_type": "code",
   "execution_count": null,
   "metadata": {},
   "outputs": [],
   "source": [
    "# Function to count images in each class\n",
    "def count_images_in_classes(dataset_dir):\n",
    "    \"\"\"\n",
    "    Counts the number of images in each class within a dataset directory.\n",
    "\n",
    "    Args:\n",
    "        dataset_dir (str): The path to the dataset directory.\n",
    "\n",
    "    Returns:\n",
    "        dict: A dictionary where the keys are the class names and the values are the number of images in each class.\n",
    "    \"\"\"\n",
    "    class_counts = {}\n",
    "    for class_name in os.listdir(dataset_dir):\n",
    "        class_path = os.path.join(dataset_dir, class_name)\n",
    "        if os.path.isdir(class_path):\n",
    "            class_counts[class_name] = len(os.listdir(class_path))\n",
    "    return class_counts\n",
    "\n",
    "\n",
    "# Count images in training and validation sets\n",
    "train_class_counts = count_images_in_classes(TRAIN_DIR)\n",
    "valid_class_counts = count_images_in_classes(VALID_DIR)\n",
    "\n",
    "# Create a DataFrame for better visualization\n",
    "df = pd.DataFrame(\n",
    "    {\n",
    "        \"Class\": list(train_class_counts.keys()),\n",
    "        \"Training Images\": list(train_class_counts.values()),\n",
    "        \"Validation Images\": \n",
    "            list(valid_class_counts.values())\n",
    "        # [\n",
    "            # valid_class_counts.get(cls, 0) for cls in train_class_counts.keys()\n",
    "        # ],\n",
    "    }\n",
    ").sort_values(by=\"Class\", ascending=True)"
   ]
  },
  {
   "cell_type": "code",
   "execution_count": null,
   "metadata": {},
   "outputs": [],
   "source": [
    "# Display the DataFrame\n",
    "print(df)"
   ]
  },
  {
   "cell_type": "code",
   "execution_count": null,
   "metadata": {},
   "outputs": [],
   "source": [
    "# Plot the class distribution with adjustments for readability\n",
    "df.plot(\n",
    "    x=\"Class\", kind=\"bar\", stacked=True, figsize=(20, 8), title=\"Class Distribution\"\n",
    ")\n",
    "plt.ylabel(\"Number of Images\")\n",
    "plt.xlabel(\"Class\")\n",
    "\n",
    "# Rotate x-ticks for better readability\n",
    "plt.xticks(rotation=90, ha=\"center\")\n",
    "\n",
    "# Adjust layout to prevent clipping of labels\n",
    "plt.tight_layout()\n",
    "\n",
    "# Show the plot\n",
    "plt.show()"
   ]
  },
  {
   "cell_type": "code",
   "execution_count": null,
   "metadata": {},
   "outputs": [],
   "source": [
    "# Function to visualize one image per class\n",
    "def visualize_sample_images(dataset_dir):\n",
    "    \"\"\"\n",
    "    Visualizes one sample image per class in the dataset directory.\n",
    "\n",
    "    Args:\n",
    "        dataset_dir (str): The path to the dataset directory.\n",
    "\n",
    "    Displays a grid of images, with one image per class, using matplotlib.\n",
    "    \"\"\"\n",
    "    class_names = os.listdir(dataset_dir)\n",
    "    class_names.sort()  # Sort for consistent order\n",
    "\n",
    "    # Calculate the number of rows and columns for the subplot grid\n",
    "    num_classes = len(class_names)\n",
    "    num_cols = 5  # You can adjust this number\n",
    "    num_rows = math.ceil(num_classes / num_cols)\n",
    "\n",
    "    plt.figure(figsize=(num_cols * 3, num_rows * 3))\n",
    "    for i, class_name in enumerate(class_names, start=1):\n",
    "        class_path = os.path.join(dataset_dir, class_name)\n",
    "        image_path = os.path.join(\n",
    "            class_path, os.listdir(class_path)[0]\n",
    "        )  # Get the first image in the class\n",
    "        img = plt.imread(image_path)\n",
    "\n",
    "        plt.subplot(num_rows, num_cols, i)  # Adjust grid size dynamically\n",
    "        plt.imshow(img)\n",
    "        plt.title(class_name)\n",
    "        plt.axis(\"off\")\n",
    "\n",
    "    plt.tight_layout()\n",
    "    plt.show()"
   ]
  },
  {
   "cell_type": "code",
   "execution_count": null,
   "metadata": {},
   "outputs": [],
   "source": [
    "# Visualize sample images from training set\n",
    "visualize_sample_images(TRAIN_DIR)"
   ]
  },
  {
   "cell_type": "markdown",
   "metadata": {},
   "source": [
    "### Image Preprocessing"
   ]
  },
  {
   "cell_type": "markdown",
   "metadata": {},
   "source": [
    "#### Normalization"
   ]
  },
  {
   "cell_type": "code",
   "execution_count": null,
   "metadata": {},
   "outputs": [],
   "source": [
    "normalize = tf.keras.layers.Rescaling(1.0 / 255)\n",
    "\n",
    "# Apply normalization on both Training and Validation set\n",
    "normalized_training_set = training_set.map(lambda x, y: (normalize(x), y))\n",
    "normalized_validation_set = validation_set.map(lambda x, y: (normalize(x), y))\n",
    "normalized_test_set = test_set.map(lambda x, y: (normalize(x), y))"
   ]
  },
  {
   "cell_type": "markdown",
   "metadata": {},
   "source": [
    "#### Image Augmentation"
   ]
  },
  {
   "cell_type": "code",
   "execution_count": null,
   "metadata": {},
   "outputs": [],
   "source": [
    "# Apply augmentation to the training set\n",
    "augmented_training_set = normalized_training_set"
   ]
  },
  {
   "cell_type": "markdown",
   "metadata": {},
   "source": [
    "#### Image Enhancement (not implemented)"
   ]
  },
  {
   "cell_type": "code",
   "execution_count": null,
   "metadata": {},
   "outputs": [],
   "source": [
    "# Image Enhancements have not strongly proven to increase the accuracy"
   ]
  },
  {
   "cell_type": "markdown",
   "metadata": {},
   "source": [
    "## Conclusion"
   ]
  }
 ],
 "metadata": {
  "kernelspec": {
   "display_name": ".AgroDiagnoseAI_venv",
   "language": "python",
   "name": "python3"
  },
  "language_info": {
   "name": "python",
   "version": "3.12.3"
  }
 },
 "nbformat": 4,
 "nbformat_minor": 2
}
